{
 "cells": [
  {
   "cell_type": "markdown",
   "metadata": {},
   "source": [
    "# Escape Game LMD\n",
    "## Énigme n° 2"
   ]
  },
  {
   "cell_type": "markdown",
   "metadata": {},
   "source": [
    "Un message crypté sur la vie de Marx Dormoy est apparu sur le site du lycée. Vous devez le retrouver et le décrypter."
   ]
  },
  {
   "cell_type": "markdown",
   "metadata": {},
   "source": [
    "### Utilsation de cette page :\n",
    "Pour <strong>activer une cellule</strong> (comme la case grise ci-dessous), cliquez sur celle-ci et tapez sur les touches Shift + Enter.\n",
    "<br>Essayez avec la cellule ci-dessous. \n",
    "<br><em>Ne vous inqiétez pas si vous ne comprenez pas ce qui est écrit, ce sont des fonctions utilisées pour afficher des graphiques plus tard.</em>"
   ]
  },
  {
   "cell_type": "code",
   "execution_count": null,
   "metadata": {},
   "outputs": [],
   "source": [
    "%pylab inline\n",
    "\n",
    "alphabet = ['a','b','c','d','e','f','g','h','i','j','k',\n",
    "            'l','m','n','o','p','q','r','s','t','u','v','w','x','y','z','0',\n",
    "            '1','2','3','4','5','6','7','8','9','ç']\n",
    "\n",
    "def histogramme(frequences):\n",
    "    plt.figure()\n",
    "    x = [k for k in range(37)]\n",
    "    height = [frequences.get(letter) for letter in alphabet]\n",
    "    plt.vlines(x, 0, height, colors='k', linestyles='solid', label='',)\n",
    "    plt.ylabel(\"Nombre d'occurences\")\n",
    "    plt.title(\"Nombre d'apparition de chaque lettre dans le texte crypté\")\n",
    "    pylab.xticks(x, alphabet, rotation=40)\n",
    "    plt.show()\n",
    "  \n",
    "def references():\n",
    "    plt.figure()\n",
    "    x = [k for k in range(26)]\n",
    "    height = [7.68,0.8,3.32,3.6,17.76,1.06,1.1,0.64,7.23,0.19,0,5.89,2.72,\n",
    "              7.61,5.34,3.24,1.34,6.81,8.23,7.3,6.05,1.27,0,0.54,0.21,0.07]\n",
    "    plt.vlines(x, 0, height, colors='k', linestyles='solid', label='',)\n",
    "    plt.ylabel(\"Pourcentage d'apparition\")\n",
    "    plt.title(\"Fréquences moyennes des lettres utilisées en français\")\n",
    "    pylab.xticks(x, alphabet[0:25], rotation=40)\n",
    "    plt.show()\n",
    "    \n",
    "print(\"Bravo vous avez réussi à activer cette cellule.\")"
   ]
  },
  {
   "cell_type": "markdown",
   "metadata": {},
   "source": [
    "### Étape 1 :\n",
    "Rendez-vous sur le site du lycée à l'adresse http://www.lycee-marxdormoy-creteil.fr/ \n",
    "<br>Le message codé est écrit dans un article du site, il faut le chercher et le copiez.\n",
    "<br><em>Petit indice : Vous avez rendez-vous avec l'histoire…</em>"
   ]
  },
  {
   "cell_type": "markdown",
   "metadata": {},
   "source": [
    "#### Explication du cryptage utilisé\n",
    "Le codage utilisé est un chiffre de César, il s'agit d'un décalage de l'alphabet. Le nombre de décalage est appelé la clef. Pour chiffrer un message avec une clef de 3, on prend chaque lettre de l'alphabet et on la décale de 3 rangs, A→D, B→E,… \n",
    " <img src=\"https://upload.wikimedia.org/wikipedia/commons/thumb/2/2b/Caesar3.svg/1200px-Caesar3.svg.png\" alt=\"Chiffre de César\" width=\"500\" height=\"600\">\n",
    "<br>Par exemple, le mot DORMOY devient GRUPRB.\n",
    "\n",
    "Si on veut décrypter le message GRUPRB il suffit de refaire un décalage pour remettre les lettres à leur place, ici il faudrait faire un décalage de 23.\n",
    "\n",
    "\n",
    "Heureusement nos experts ont écrit un programme pour retrouver cette clef et décrypter le message."
   ]
  },
  {
   "cell_type": "markdown",
   "metadata": {},
   "source": [
    "### Étape 2 :\n",
    "Dans la cellule ci-dessous, coller le texte crypté trouvé sur le site internet du lycée en gardant les \" \".\n",
    "<br>Puis <strong>activez la cellule</strong>."
   ]
  },
  {
   "cell_type": "code",
   "execution_count": null,
   "metadata": {},
   "outputs": [],
   "source": [
    "message_code = \"collez votre texte ici\""
   ]
  },
  {
   "cell_type": "markdown",
   "metadata": {},
   "source": [
    "### Étape 3 :\n",
    "<strong>Activez la cellule</strong> ci-dessous pour faire apparaître deux graphiques.\n",
    "<br>Ces deux graphiques montrent clairement le décalage utilisé, pouvez-vous retrouver la clef de cryptage ? (C'est à dire le nombre de décalage)."
   ]
  },
  {
   "cell_type": "code",
   "execution_count": null,
   "metadata": {},
   "outputs": [],
   "source": [
    "frequences = dict((letter,0) for letter in alphabet)\n",
    "for letter in message_code:\n",
    "    if letter not in [' ',',','.','«','»','-',\"'\",':','(',')','!','$',\"’\"]:\n",
    "        frequences[letter] += 1\n",
    "histogramme(frequences)\n",
    "references()"
   ]
  },
  {
   "cell_type": "markdown",
   "metadata": {},
   "source": [
    "### Étape 4 :\n",
    "Maintenant que vous avez la clef de cryptage écrivez-là à la première ligne <em>clef_de_cryptage = </em> et <strong>activer la cellule</strong>."
   ]
  },
  {
   "cell_type": "code",
   "execution_count": null,
   "metadata": {},
   "outputs": [],
   "source": [
    "clef_de_cryptage =    \n",
    "clef_de_decryptage = 37 - clef_de_cryptage  \n",
    "message_decode = \"\"\n",
    "capitale = True\n",
    "for letter in message_code:\n",
    "    if letter in [' ',',','«','»','-',\"'\",'(',')',\"’\"]:\n",
    "        message_decode += letter\n",
    "    elif letter in ['.','!',':']:\n",
    "        message_decode += letter\n",
    "        capitale = True\n",
    "    elif letter == '$':\n",
    "        message_decode += '\\n \\n'\n",
    "    elif capitale:\n",
    "        message_decode += alphabet[(alphabet.index(letter)+clef_de_decryptage) % len(alphabet)].upper()\n",
    "        capitale = False\n",
    "    else:\n",
    "        message_decode += alphabet[(alphabet.index(letter)+clef_de_decryptage) % len(alphabet)]\n",
    "print(message_decode)"
   ]
  }
 ],
 "metadata": {
  "kernelspec": {
   "display_name": "Python 3",
   "language": "python",
   "name": "python3"
  },
  "language_info": {
   "codemirror_mode": {
    "name": "ipython",
    "version": 3
   },
   "file_extension": ".py",
   "mimetype": "text/x-python",
   "name": "python",
   "nbconvert_exporter": "python",
   "pygments_lexer": "ipython3",
   "version": "3.6.3"
  }
 },
 "nbformat": 4,
 "nbformat_minor": 2
}
